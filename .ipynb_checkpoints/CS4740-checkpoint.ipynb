{
 "cells": [
  {
   "cell_type": "markdown",
   "id": "27c920d1",
   "metadata": {},
   "source": [
    "# Effects of Data Leakage in Convolutional Neural Networks. "
   ]
  },
  {
   "cell_type": "markdown",
   "id": "5eae29bd",
   "metadata": {},
   "source": [
    "This blog is based off the paper: “Effect of data leakage in brain MRI classification using \n",
    "2D convolutional neural networks”.\n",
    "Deep Learning (DL) models are changing the way modern-day neurological diseases are \n",
    "diagnosed through MRI scanning, offering advanced detection and treatment. DL models, \n",
    "specifically deep conventional neural networks (CNNs) demonstrate good ability to analyse \n",
    "complex imaging data and identify otherwise hard-to-detect patterns indicative of \n",
    "neurological ailments. CNNs eliminate the need to handcraft features as they demonstrate \n",
    "high-level ability to learn complex features directly from the input data. The application of \n",
    "deep learning models in neuroimaging continues to grow [1] such as image improvement \n",
    "and transformation, identifying subtle patterns and predicting patient outcomes. Although \n",
    "good performance has been noted by using DL methods in the classification of neurological \n",
    "diseases, many challenges remain unaddressed such as complexity and non-reproducibility \n",
    "in the interpretation of highly nonlinear computation results. \n",
    "The study explores the impact of data leakage in brain MRI classification of neurological\n",
    "diseases such as Alzheimer’s and Parkison’s by comparing subject-level and slice-level data \n",
    "splits using 2D convolutional neural networks across multiple datasets. It addresses the \n",
    "overestimation in model evaluation caused by slice-level cross-validation which erroneously\n",
    "includes data from the same patient in both the training and test sets i.e. inducing data \n",
    "leakage. The study focuses on data leakage within 2D CNNs due to improper data splitting\n",
    "(3D MRI data such as T1-weighted brain scans) leading to compromised model \n",
    "performance. Nested-cross validation is deployed to prevent data leakage at both subject\u0002level split and slice-level split. A varying number of datasets have been used to assess \n",
    "potential performance overestimation due to data leakage which is a critical factor in \n",
    "predicting patient outcomes accurately.x`"
   ]
  },
  {
   "cell_type": "code",
   "execution_count": null,
   "id": "16e94348",
   "metadata": {},
   "outputs": [],
   "source": []
  },
  {
   "cell_type": "markdown",
   "id": "c6a5c40c",
   "metadata": {},
   "source": [
    "# Study Overview: \n",
    "The study embarks on a journey back to 1989, revisiting one of the earliest applications of neural networks trained with backpropagation for handwritten zip code recognition. Using modern tools and computational power, the study aims to replicate and extend the original findings.\n",
    "\n",
    "## Methodology at a Glance\n",
    "- Dataset: Simulated from MNIST, adjusted to match the original study's conditions.\n",
    "- Network Architecture: A small, four-layer convolutional neural network.\n",
    "- Training Process: Leveraging PyTorch for an efficient training loop.\n",
    "\n",
    "## Delving into the Experimental Setup\n",
    "The recreation of Yann LeCun et al.’s pioneering work involves meticulously simulating the dataset and adhering to the original network's blueprint, with adjustments to accommodate today's computational standards.\n",
    "\n",
    "- Dataset Preparation: The MNIST dataset's images were resized to 16x16 pixels, echoing the original study's constraints.\n",
    "- Neural Network Specification: A concise convolutional neural network, constructed with PyTorch, mirrors the architecture from 1989, albeit with modern optimizations."
   ]
  },
  {
   "cell_type": "code",
   "execution_count": null,
   "id": "0f4b43bb",
   "metadata": {},
   "outputs": [],
   "source": [
    "# Detailed PyTorch model definition\n",
    "class LeCunNet(nn.Module):\n",
    "    def __init__(self):\n",
    "        super(LeCunNet, self).__init__()\n",
    "        self.conv_layers = nn.Sequential(\n",
    "            nn.Conv2d(1, 6, kernel_size=5), nn.ReLU(),\n",
    "            nn.Conv2d(6, 12, kernel_size=5), nn.ReLU()\n",
    "        )\n",
    "        self.fc_layers = nn.Sequential(\n",
    "            nn.Linear(12*4*4, 120), nn.ReLU(),\n",
    "            nn.Linear(120, 10)\n",
    "        )\n",
    "\n",
    "    def forward(self, x):\n",
    "        x = self.conv_layers(x)\n",
    "        x = x.view(x.size(0), -1)\n",
    "        x = self.fc_layers(x)\n",
    "        return x\n"
   ]
  },
  {
   "cell_type": "markdown",
   "id": "cea7cbbc",
   "metadata": {},
   "source": [
    "## Optimization and Training\n",
    "The training regimen is adapted to modern standards, utilizing the Adam optimizer for improved convergence.\n"
   ]
  },
  {
   "cell_type": "code",
   "execution_count": null,
   "id": "21657acf",
   "metadata": {},
   "outputs": [],
   "source": [
    "# PyTorch training loop with optimizer details\n",
    "optimizer = torch.optim.Adam(model.parameters(), lr=3e-4)\n",
    "for epoch in range(total_epochs):\n",
    "    for images, labels in dataloader:\n",
    "        ...\n"
   ]
  },
  {
   "cell_type": "markdown",
   "id": "3c4e38aa",
   "metadata": {},
   "source": [
    "The recreation highlights both the timeless nature of deep learning fundamentals and the evolution of methodologies over three decades."
   ]
  },
  {
   "cell_type": "code",
   "execution_count": null,
   "id": "883a2f2f",
   "metadata": {},
   "outputs": [],
   "source": []
  }
 ],
 "metadata": {
  "kernelspec": {
   "display_name": "Python 3 (ipykernel)",
   "language": "python",
   "name": "python3"
  },
  "language_info": {
   "codemirror_mode": {
    "name": "ipython",
    "version": 3
   },
   "file_extension": ".py",
   "mimetype": "text/x-python",
   "name": "python",
   "nbconvert_exporter": "python",
   "pygments_lexer": "ipython3",
   "version": "3.11.5"
  }
 },
 "nbformat": 4,
 "nbformat_minor": 5
}
