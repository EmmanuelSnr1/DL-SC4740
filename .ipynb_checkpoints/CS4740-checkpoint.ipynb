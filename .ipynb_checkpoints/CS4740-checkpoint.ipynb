{
 "cells": [
  {
   "cell_type": "markdown",
   "id": "0b4d4cca",
   "metadata": {},
   "source": [
    "# Effects of Data Leakage in Convolutional Neural Networks. "
   ]
  },
  {
   "cell_type": "markdown",
   "id": "45c08948",
   "metadata": {},
   "source": [
    "This blog is based off the paper: “Effect of data leakage in brain MRI classification using \n",
    "2D convolutional neural networks”.\n",
    "Deep Learning (DL) models are changing the way modern-day neurological diseases are \n",
    "diagnosed through MRI scanning, offering advanced detection and treatment. DL models, \n",
    "specifically deep conventional neural networks (CNNs) demonstrate good ability to analyse \n",
    "complex imaging data and identify otherwise hard-to-detect patterns indicative of \n",
    "neurological ailments. CNNs eliminate the need to handcraft features as they demonstrate \n",
    "high-level ability to learn complex features directly from the input data. The application of \n",
    "deep learning models in neuroimaging continues to grow [1] such as image improvement \n",
    "and transformation, identifying subtle patterns and predicting patient outcomes. Although \n",
    "good performance has been noted by using DL methods in the classification of neurological \n",
    "diseases, many challenges remain unaddressed such as complexity and non-reproducibility \n",
    "in the interpretation of highly nonlinear computation results. \n",
    "The study explores the impact of data leakage in brain MRI classification of neurological\n",
    "diseases such as Alzheimer’s and Parkison’s by comparing subject-level and slice-level data \n",
    "splits using 2D convolutional neural networks across multiple datasets. It addresses the \n",
    "overestimation in model evaluation caused by slice-level cross-validation which erroneously\n",
    "includes data from the same patient in both the training and test sets i.e. inducing data \n",
    "leakage. The study focuses on data leakage within 2D CNNs due to improper data splitting\n",
    "(3D MRI data such as T1-weighted brain scans) leading to compromised model \n",
    "performance. Nested-cross validation is deployed to prevent data leakage at both subject\u0002level split and slice-level split. A varying number of datasets have been used to assess \n",
    "potential performance overestimation due to data leakage which is a critical factor in \n",
    "predicting patient outcomes accurately.\n",
    "\n",
    "Data leakage in brain MRI classification can introduce error and over-inflated results. This \n",
    "leakage arises from a number of factors; improper data handling techniques (i.e. data \n",
    "splitting methods). The research emphasises use of subject-level cross-validation instead of \n",
    "slice-level to prevent inflated results of model performance evaluations. Overly inflated \n",
    "results can be contributed by data leakage which refers to the process of using information \n",
    "during model training that is not available when making predictions [2] Often data leakage \n",
    "results from incorrect data splitting, for instance performing feature selection on an entire \n",
    "dataset before cross-validation; here the target variables in the test data may be mistakenly \n",
    "used for improving model learning. Multiple cases may arise from incorrect data splitting, for \n",
    "instance using the same test data to optimise training hyperparameters and model \n",
    "evaluation or performing data augmentation steps before splitting the test-train data thereby \n",
    "introducing the original data into both train and test data leading to inflated accuracy results. \n",
    "Data leakage from improperly splitting data into separate groups for training, validation and \n",
    "test can arise if training data is included in the held out test set; this will cause the model \n",
    "evaluation to overoptimistic in its true generalisation error; similar to the concept of \n",
    "overfitting. Essentially, this arises from the data having been already seen by the model \n",
    "therefore inducing bias. Data leakage can still arise after correct splitting if the model goes \n",
    "through regularisation when examining the distributions of the held out test data set; this \n",
    "would mean any performance improvements are deceptive. Furthermore, it can also occur is \n",
    "if the input data and target label have some relationship; for instance when creating a \n",
    "student attrition model to predict the risk of students not finishing their degree, log data can \n",
    "be utilised (i.e. 0 credits = dropped out, 0+ credits = enrolled), this can be problematic if \n",
    "credits are considered a feature, as the model will assign higher probability to students with \n",
    "less credits and this may not be a true representation. Another form of data leakage can \n",
    "occur when a model expects all its features to be available at run time however the values \n",
    "themselves are volatile; this can be difficult to recognise. Suppose a feature is derived a \n",
    "dataset column that changes after every user action; this means the data used for training \n",
    "can include volatile values and at inference time, the column may reflect a different \n",
    "relationship. \n",
    "In relation to feature engineering, there can be two reasons why data may be unavailable at \n",
    "inference time, for instance if a query takes too long to return a particular data, this should\n",
    "not be used to train the model. Secondly it could be that the data generating process itself is \n",
    "not generating the required data at the correct time; referencing our previous example of \n",
    "student attrition model, assume that the final year grades are highly predictive of a student \n",
    "dropping out, when the data is training and the final grades are not yet available, the values \n",
    "in the database may be filled with null values (tree-based models can accept null features), \n",
    "this will lead to underperformance in actual predictions. Therefore data leakage can lead to \n",
    "suboptimal user experiences, lost profits, and even life threatening situations therefore must \n",
    "be addressed by a machine learning engineer.\n",
    "\n",
    "- During cross-validation, it is important that the validation set remains independent \n",
    "and does not leak from the training set. Ensure that no information from the validation \n",
    "set is used to generate features during training; any information must only be based \n",
    "on the training data during feature engineering. \n",
    "- Techniques like Time Series Cross-Validation involve splitting data based on time, \n",
    "which ensures that the validation set contains data only from a later period than the \n",
    "training set, preventing contamination. \n",
    "- Datasets containing clusters can utilise group-aware cross-validation techniques like \n",
    "StratifiedGroupKFold and GroupKFold so that grouped samples remain together \n",
    "whether in training or test set. \n",
    "- When sampling datasets, it is advisable to set a seed to ensure reproducibility of \n",
    "results. This also helps identify data leakage. \n",
    "- Techniques like Nested Cross-Validation add an outer loop of cross-validation to \n",
    "model selection while using inner loop to handle hyperparameter tuning to prevent \n",
    "data leakage."
   ]
  },
  {
   "cell_type": "code",
   "execution_count": null,
   "id": "11895106",
   "metadata": {},
   "outputs": [],
   "source": []
  },
  {
   "cell_type": "markdown",
   "id": "f4491020",
   "metadata": {},
   "source": []
  },
  {
   "cell_type": "code",
   "execution_count": null,
   "id": "30a690c6",
   "metadata": {},
   "outputs": [],
   "source": []
  },
  {
   "cell_type": "markdown",
   "id": "9f51e2d4",
   "metadata": {},
   "source": []
  },
  {
   "cell_type": "code",
   "execution_count": null,
   "id": "8e2f699d",
   "metadata": {},
   "outputs": [],
   "source": []
  },
  {
   "cell_type": "markdown",
   "id": "86919639",
   "metadata": {},
   "source": []
  },
  {
   "cell_type": "code",
   "execution_count": null,
   "id": "3d41a0fb",
   "metadata": {},
   "outputs": [],
   "source": []
  }
 ],
 "metadata": {
  "kernelspec": {
   "display_name": "Python 3 (ipykernel)",
   "language": "python",
   "name": "python3"
  },
  "language_info": {
   "codemirror_mode": {
    "name": "ipython",
    "version": 3
   },
   "file_extension": ".py",
   "mimetype": "text/x-python",
   "name": "python",
   "nbconvert_exporter": "python",
   "pygments_lexer": "ipython3",
   "version": "3.11.5"
  }
 },
 "nbformat": 4,
 "nbformat_minor": 5
}
