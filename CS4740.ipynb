{
 "cells": [
  {
   "cell_type": "markdown",
   "id": "43ec9ce8",
   "metadata": {},
   "source": [
    "# Effects of Data Leakage in Convolutional Neural Networks. "
   ]
  },
  {
   "cell_type": "markdown",
   "id": "163384e7",
   "metadata": {},
   "source": [
    "This blog is based off the paper: “Effect of data leakage in brain MRI classification using \n",
    "2D convolutional neural networks”.\n",
    "Deep Learning (DL) models are changing the way modern-day neurological diseases are \n",
    "diagnosed through MRI scanning, offering advanced detection and treatment. DL models, \n",
    "specifically deep conventional neural networks (CNNs) demonstrate good ability to analyse \n",
    "complex imaging data and identify otherwise hard-to-detect patterns indicative of \n",
    "neurological ailments. CNNs eliminate the need to handcraft features as they demonstrate \n",
    "high-level ability to learn complex features directly from the input data. The application of \n",
    "deep learning models in neuroimaging continues to grow [1] such as image improvement \n",
    "and transformation, identifying subtle patterns and predicting patient outcomes. Although \n",
    "good performance has been noted by using DL methods in the classification of neurological \n",
    "diseases, many challenges remain unaddressed such as complexity and non-reproducibility \n",
    "in the interpretation of highly nonlinear computation results. \n",
    "The study explores the impact of data leakage in brain MRI classification of neurological\n",
    "diseases such as Alzheimer’s and Parkison’s by comparing subject-level and slice-level data \n",
    "splits using 2D convolutional neural networks across multiple datasets. It addresses the \n",
    "overestimation in model evaluation caused by slice-level cross-validation which erroneously\n",
    "includes data from the same patient in both the training and test sets i.e. inducing data \n",
    "leakage. The study focuses on data leakage within 2D CNNs due to improper data splitting\n",
    "(3D MRI data such as T1-weighted brain scans) leading to compromised model \n",
    "performance. Nested-cross validation is deployed to prevent data leakage at both subject\u0002level split and slice-level split. A varying number of datasets have been used to assess \n",
    "potential performance overestimation due to data leakage which is a critical factor in \n",
    "predicting patient outcomes accurately.x`"
   ]
  },
  {
   "cell_type": "code",
   "execution_count": null,
   "id": "c97d5b3b",
   "metadata": {},
   "outputs": [],
   "source": []
  },
  {
   "cell_type": "markdown",
   "id": "aa738775",
   "metadata": {},
   "source": [
    "# Study Overview: \n",
    "The study embarks on a journey back to 1989, revisiting one of the earliest applications of neural networks trained with backpropagation for handwritten zip code recognition. Using modern tools and computational power, the study aims to replicate and extend the original findings.\n",
    "\n",
    "## Methodology at a Glance\n",
    "- Dataset: Simulated from MNIST, adjusted to match the original study's conditions.\n",
    "- Network Architecture: A small, four-layer convolutional neural network.\n",
    "- Training Process: Leveraging PyTorch for an efficient training loop."
   ]
  },
  {
   "cell_type": "code",
   "execution_count": null,
   "id": "a89206e0",
   "metadata": {},
   "outputs": [],
   "source": [
    "# Simplified PyTorch training loop\n",
    "for epoch in range(total_epochs):\n",
    "    for images, labels in dataloader:\n",
    "        preds = model(images)  # Forward pass\n",
    "        loss = criterion(preds, labels)\n",
    "        optimizer.zero_grad()\n",
    "        loss.backward()  # Backward pass\n",
    "        optimizer.step()\n"
   ]
  },
  {
   "cell_type": "code",
   "execution_count": null,
   "id": "6c62f880",
   "metadata": {},
   "outputs": [],
   "source": []
  },
  {
   "cell_type": "code",
   "execution_count": null,
   "id": "33e63fee",
   "metadata": {},
   "outputs": [],
   "source": []
  },
  {
   "cell_type": "code",
   "execution_count": null,
   "id": "a0ccea9b",
   "metadata": {},
   "outputs": [],
   "source": []
  },
  {
   "cell_type": "code",
   "execution_count": null,
   "id": "1ee6d538",
   "metadata": {},
   "outputs": [],
   "source": []
  }
 ],
 "metadata": {
  "kernelspec": {
   "display_name": "Python 3 (ipykernel)",
   "language": "python",
   "name": "python3"
  },
  "language_info": {
   "codemirror_mode": {
    "name": "ipython",
    "version": 3
   },
   "file_extension": ".py",
   "mimetype": "text/x-python",
   "name": "python",
   "nbconvert_exporter": "python",
   "pygments_lexer": "ipython3",
   "version": "3.11.5"
  }
 },
 "nbformat": 4,
 "nbformat_minor": 5
}
